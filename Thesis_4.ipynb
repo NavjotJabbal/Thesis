{
 "cells": [
  {
   "cell_type": "code",
   "execution_count": 1,
   "id": "b3ee9e68",
   "metadata": {},
   "outputs": [],
   "source": [
    "import os\n",
    "import shutil\n",
    "import pandas as pd\n",
    "import numpy as np\n",
    "import winshell\n",
    "from math import ceil\n",
    "\n",
    "from sklearn.model_selection import train_test_split\n",
    "from sklearn.metrics import classification_report, confusion_matrix, f1_score, jaccard_score, accuracy_score\n",
    "\n",
    "import tensorflow as tf\n",
    "from tensorflow.keras.preprocessing.image import ImageDataGenerator\n",
    "from tensorflow.keras.layers import GlobalAveragePooling2D, Dense, Dropout, Input, BatchNormalization, Flatten, Conv2D, MaxPooling2D\n",
    "from tensorflow.keras.callbacks import EarlyStopping, ReduceLROnPlateau\n",
    "from tensorflow.keras.models import Model\n",
    "from tensorflow.keras.optimizers import Adam\n",
    "\n",
    "import seaborn as sns\n",
    "import matplotlib.pyplot as plt"
   ]
  },
  {
   "cell_type": "code",
   "execution_count": 2,
   "id": "505c25d5",
   "metadata": {},
   "outputs": [
    {
     "name": "stdout",
     "output_type": "stream",
     "text": [
      "HAM10000_metadata.csv\n",
      "hmnist_28_28_L.csv\n",
      "hmnist_28_28_RGB.csv\n",
      "hmnist_8_8_L.csv\n",
      "hmnist_8_8_RGB.csv\n",
      "HAM10000_images_part_2\n",
      "HAM10000_images_part_1\n"
     ]
    }
   ],
   "source": [
    "base_path = winshell.shortcut(r\"G:/My Drive/Thesis/HAM10000.lnk\").path\n",
    "\n",
    "for item in os.listdir(base_path):\n",
    "    print(item)"
   ]
  },
  {
   "cell_type": "code",
   "execution_count": 3,
   "id": "20596115",
   "metadata": {},
   "outputs": [
    {
     "name": "stdout",
     "output_type": "stream",
     "text": [
      "TensorFlow version: 2.10.1\n",
      "Built with CUDA: True\n",
      "Num GPUs Available:  1\n",
      "GPU Available: [PhysicalDevice(name='/physical_device:GPU:0', device_type='GPU')]\n"
     ]
    }
   ],
   "source": [
    "print(\"TensorFlow version:\", tf.__version__)\n",
    "print(\"Built with CUDA:\", tf.test.is_built_with_cuda())\n",
    "print(\"Num GPUs Available: \", len(tf.config.list_physical_devices('GPU')))\n",
    "print(\"GPU Available:\", tf.config.list_physical_devices('GPU'))"
   ]
  },
  {
   "cell_type": "code",
   "execution_count": 4,
   "id": "4ab1954d",
   "metadata": {},
   "outputs": [
    {
     "name": "stdout",
     "output_type": "stream",
     "text": [
      "Total images: 10015\n"
     ]
    }
   ],
   "source": [
    "image_dir_1 = os.path.join(base_path, \"HAM10000_images_part_1\")\n",
    "image_dir_2 = os.path.join(base_path, \"HAM10000_images_part_2\")\n",
    "\n",
    "total_images = len(os.listdir(image_dir_1)) + len(os.listdir(image_dir_2))\n",
    "print(f\"Total images: {total_images}\")"
   ]
  },
  {
   "cell_type": "code",
   "execution_count": 5,
   "id": "3c304875",
   "metadata": {},
   "outputs": [
    {
     "name": "stdout",
     "output_type": "stream",
     "text": [
      "Total entries in metadata: 10015\n"
     ]
    },
    {
     "data": {
      "text/html": [
       "<div>\n",
       "<style scoped>\n",
       "    .dataframe tbody tr th:only-of-type {\n",
       "        vertical-align: middle;\n",
       "    }\n",
       "\n",
       "    .dataframe tbody tr th {\n",
       "        vertical-align: top;\n",
       "    }\n",
       "\n",
       "    .dataframe thead th {\n",
       "        text-align: right;\n",
       "    }\n",
       "</style>\n",
       "<table border=\"1\" class=\"dataframe\">\n",
       "  <thead>\n",
       "    <tr style=\"text-align: right;\">\n",
       "      <th></th>\n",
       "      <th>lesion_id</th>\n",
       "      <th>image_id</th>\n",
       "      <th>dx</th>\n",
       "      <th>dx_type</th>\n",
       "      <th>age</th>\n",
       "      <th>sex</th>\n",
       "      <th>localization</th>\n",
       "    </tr>\n",
       "  </thead>\n",
       "  <tbody>\n",
       "    <tr>\n",
       "      <th>0</th>\n",
       "      <td>HAM_0000118</td>\n",
       "      <td>ISIC_0027419</td>\n",
       "      <td>bkl</td>\n",
       "      <td>histo</td>\n",
       "      <td>80.0</td>\n",
       "      <td>male</td>\n",
       "      <td>scalp</td>\n",
       "    </tr>\n",
       "    <tr>\n",
       "      <th>1</th>\n",
       "      <td>HAM_0000118</td>\n",
       "      <td>ISIC_0025030</td>\n",
       "      <td>bkl</td>\n",
       "      <td>histo</td>\n",
       "      <td>80.0</td>\n",
       "      <td>male</td>\n",
       "      <td>scalp</td>\n",
       "    </tr>\n",
       "    <tr>\n",
       "      <th>2</th>\n",
       "      <td>HAM_0002730</td>\n",
       "      <td>ISIC_0026769</td>\n",
       "      <td>bkl</td>\n",
       "      <td>histo</td>\n",
       "      <td>80.0</td>\n",
       "      <td>male</td>\n",
       "      <td>scalp</td>\n",
       "    </tr>\n",
       "    <tr>\n",
       "      <th>3</th>\n",
       "      <td>HAM_0002730</td>\n",
       "      <td>ISIC_0025661</td>\n",
       "      <td>bkl</td>\n",
       "      <td>histo</td>\n",
       "      <td>80.0</td>\n",
       "      <td>male</td>\n",
       "      <td>scalp</td>\n",
       "    </tr>\n",
       "    <tr>\n",
       "      <th>4</th>\n",
       "      <td>HAM_0001466</td>\n",
       "      <td>ISIC_0031633</td>\n",
       "      <td>bkl</td>\n",
       "      <td>histo</td>\n",
       "      <td>75.0</td>\n",
       "      <td>male</td>\n",
       "      <td>ear</td>\n",
       "    </tr>\n",
       "  </tbody>\n",
       "</table>\n",
       "</div>"
      ],
      "text/plain": [
       "     lesion_id      image_id   dx dx_type   age   sex localization\n",
       "0  HAM_0000118  ISIC_0027419  bkl   histo  80.0  male        scalp\n",
       "1  HAM_0000118  ISIC_0025030  bkl   histo  80.0  male        scalp\n",
       "2  HAM_0002730  ISIC_0026769  bkl   histo  80.0  male        scalp\n",
       "3  HAM_0002730  ISIC_0025661  bkl   histo  80.0  male        scalp\n",
       "4  HAM_0001466  ISIC_0031633  bkl   histo  75.0  male          ear"
      ]
     },
     "execution_count": 5,
     "metadata": {},
     "output_type": "execute_result"
    }
   ],
   "source": [
    "df = pd.read_csv(os.path.join(base_path, \"HAM10000_metadata.csv\"))\n",
    "print(f\"Total entries in metadata: {len(df)}\")\n",
    "df.head()"
   ]
  },
  {
   "cell_type": "code",
   "execution_count": 6,
   "id": "629f3d41",
   "metadata": {},
   "outputs": [
    {
     "name": "stdout",
     "output_type": "stream",
     "text": [
      "Training set size: 8012\n",
      "Validation set size: 1001\n",
      "Test set size: 1002\n"
     ]
    }
   ],
   "source": [
    "df_train, df_temp = train_test_split(df, test_size=0.2, stratify=df['dx'], random_state=42)\n",
    "df_val, df_test = train_test_split(df_temp, test_size=0.5, stratify=df_temp['dx'], random_state=42)\n",
    "\n",
    "print(f\"Training set size: {len(df_train)}\")\n",
    "print(f\"Validation set size: {len(df_val)}\")   \n",
    "print(f\"Test set size: {len(df_test)}\")"
   ]
  },
  {
   "cell_type": "code",
   "execution_count": 7,
   "id": "1392ab03",
   "metadata": {},
   "outputs": [],
   "source": [
    "df_train['path'] = df_train['image_id'].apply(\n",
    "    lambda x: os.path.join(image_dir_1, f\"{x}.jpg\")\n",
    "    if os.path.exists(os.path.join(image_dir_1, f\"{x}.jpg\"))\n",
    "    else os.path.join(image_dir_2, f\"{x}.jpg\")\n",
    ")\n",
    "\n",
    "df_val['path'] = df_val['image_id'].apply(\n",
    "    lambda x: os.path.join(image_dir_1, f\"{x}.jpg\")\n",
    "    if os.path.exists(os.path.join(image_dir_1, f\"{x}.jpg\"))\n",
    "    else os.path.join(image_dir_2, f\"{x}.jpg\")\n",
    ")\n",
    "\n",
    "df_test['path'] = df_test['image_id'].apply(\n",
    "    lambda x: os.path.join(image_dir_1, f\"{x}.jpg\")\n",
    "    if os.path.exists(os.path.join(image_dir_1, f\"{x}.jpg\"))\n",
    "    else os.path.join(image_dir_2, f\"{x}.jpg\")\n",
    ")"
   ]
  },
  {
   "cell_type": "code",
   "execution_count": 8,
   "id": "84004009",
   "metadata": {},
   "outputs": [
    {
     "data": {
      "text/plain": [
       "lesion_id        0\n",
       "image_id         0\n",
       "dx               0\n",
       "dx_type          0\n",
       "age             44\n",
       "sex              0\n",
       "localization     0\n",
       "path             0\n",
       "dtype: int64"
      ]
     },
     "execution_count": 8,
     "metadata": {},
     "output_type": "execute_result"
    }
   ],
   "source": [
    "nan_count = df_train.isnull().sum()\n",
    "nan_count"
   ]
  },
  {
   "cell_type": "code",
   "execution_count": 9,
   "id": "30242a8f",
   "metadata": {},
   "outputs": [],
   "source": [
    "df_train = df_train.dropna()\n",
    "df_val = df_val.dropna()\n",
    "df_test = df_test.dropna()"
   ]
  },
  {
   "cell_type": "code",
   "execution_count": 10,
   "id": "f561e9c1",
   "metadata": {},
   "outputs": [
    {
     "name": "stdout",
     "output_type": "stream",
     "text": [
      "dx distribution in the training set:\n",
      " dx\n",
      "nv       5331\n",
      "mel       889\n",
      "bkl       869\n",
      "bcc       411\n",
      "akiec     262\n",
      "vasc      114\n",
      "df         92\n",
      "Name: count, dtype: int64\n"
     ]
    },
    {
     "data": {
      "image/png": "[encoded data removed]",
      "text/plain": [
       "<Figure size 800x600 with 1 Axes>"
      ]
     },
     "metadata": {},
     "output_type": "display_data"
    }
   ],
   "source": [
    "dx_counts = df_train['dx'].value_counts()\n",
    "print(\"dx distribution in the training set:\\n\", dx_counts)\n",
    "\n",
    "plt.figure(figsize=(8, 6))\n",
    "sns.countplot(x='dx', data=df_train)\n",
    "plt.title('Distribution of dx in Training Data')\n",
    "plt.xlabel('dx')\n",
    "plt.ylabel('Count')\n",
    "plt.xticks(rotation=45)\n",
    "plt.show()"
   ]
  },
  {
   "cell_type": "code",
   "execution_count": 11,
   "id": "2a9f6285",
   "metadata": {},
   "outputs": [
    {
     "name": "stdout",
     "output_type": "stream",
     "text": [
      "Original training counts: {'nv': 5331, 'mel': 889, 'bkl': 869, 'bcc': 411, 'akiec': 262, 'vasc': 114, 'df': 92}\n",
      "class akiec: oversampled 262 -> 3000 (times=12)\n",
      "class bcc: oversampled 411 -> 3000 (times=8)\n",
      "class bkl: oversampled 869 -> 3000 (times=4)\n",
      "class df: oversampled 92 -> 3000 (times=33)\n",
      "class mel: oversampled 889 -> 3000 (times=4)\n",
      "class nv: undersampled 5331 -> 3000\n",
      "class vasc: oversampled 114 -> 3000 (times=27)\n",
      "Balanced training counts: {'akiec': 3000, 'nv': 3000, 'bkl': 3000, 'vasc': 3000, 'df': 3000, 'mel': 3000, 'bcc': 3000}\n",
      "dx distribution in the training set:\n",
      " dx\n",
      "akiec    3000\n",
      "nv       3000\n",
      "bkl      3000\n",
      "vasc     3000\n",
      "df       3000\n",
      "mel      3000\n",
      "bcc      3000\n",
      "Name: count, dtype: int64\n"
     ]
    },
    {
     "data": {
      "image/png": "[encoded data removed]",
      "text/plain": [
       "<Figure size 800x600 with 1 Axes>"
      ]
     },
     "metadata": {},
     "output_type": "display_data"
    }
   ],
   "source": [
    "CEILING = 3000\n",
    "BATCH_SIZE = 32\n",
    "IMG_SIZE = (128, 128)\n",
    "RANDOM_STATE = 42\n",
    "\n",
    "balanced_parts = []\n",
    "class_counts = df_train['dx'].value_counts().to_dict()\n",
    "print(\"Original training counts:\", class_counts)\n",
    "\n",
    "for cls in sorted(df_train['dx'].unique()):\n",
    "    cls_df = df_train[df_train['dx'] == cls].copy()\n",
    "    n = len(cls_df)\n",
    "\n",
    "    if cls == \"nv\" and n > CEILING:\n",
    "        cls_df = cls_df.sample(n=CEILING, random_state=RANDOM_STATE)\n",
    "        print(f\"class {cls}: undersampled {n} -> {len(cls_df)}\")\n",
    "    elif n < CEILING:\n",
    "        times = int(ceil(CEILING / n))\n",
    "        expanded = pd.concat([cls_df] * times, ignore_index=True).sample(\n",
    "            frac=1.0, random_state=RANDOM_STATE\n",
    "        ).reset_index(drop=True)\n",
    "        cls_df = expanded.iloc[:CEILING].copy()\n",
    "        print(f\"class {cls}: oversampled {n} -> {len(cls_df)} (times={times})\")\n",
    "    else:\n",
    "        print(f\"class {cls}: kept {n}\")\n",
    "\n",
    "    balanced_parts.append(cls_df)\n",
    "\n",
    "df_train_balanced = pd.concat(balanced_parts, ignore_index=True).sample(frac=1.0, random_state=RANDOM_STATE)\n",
    "print(\"Balanced training counts:\", df_train_balanced['dx'].value_counts().to_dict())\n",
    "\n",
    "label_counts = df_train_balanced['dx'].value_counts()\n",
    "print(\"dx distribution in the training set:\\n\", label_counts)\n",
    "\n",
    "plt.figure(figsize=(8, 6))\n",
    "sns.countplot(x='dx', data=df_train_balanced)\n",
    "plt.title('Distribution of dx in Training Data')\n",
    "plt.xlabel('dx')\n",
    "plt.ylabel('Count')\n",
    "plt.xticks(rotation=45)\n",
    "plt.show()"
   ]
  },
  {
   "cell_type": "code",
   "execution_count": 12,
   "id": "c382749e",
   "metadata": {},
   "outputs": [],
   "source": [
    "df_train_balanced['dx'] = df_train_balanced['dx'].astype(str)\n",
    "df_val['dx'] = df_val['dx'].astype(str)\n",
    "df_test['dx'] = df_test['dx'].astype(str)"
   ]
  },
  {
   "cell_type": "code",
   "execution_count": 13,
   "id": "5bbe8ac4",
   "metadata": {},
   "outputs": [
    {
     "name": "stdout",
     "output_type": "stream",
     "text": [
      "Found 21000 validated image filenames belonging to 7 classes.\n",
      "Found 995 validated image filenames belonging to 7 classes.\n",
      "Found 995 validated image filenames belonging to 7 classes.\n"
     ]
    }
   ],
   "source": [
    "train_datagen = ImageDataGenerator(\n",
    "    rescale=1./255,\n",
    "    rotation_range=30,\n",
    "    width_shift_range=0.1,\n",
    "    height_shift_range=0.1,\n",
    "    zoom_range=0.2,\n",
    "    brightness_range=[0.8, 1.2],  \n",
    "    channel_shift_range=30.0,    \n",
    "    horizontal_flip=True,\n",
    "    vertical_flip=True,          \n",
    "    fill_mode=\"nearest\"\n",
    ")\n",
    "\n",
    "\n",
    "train_gen = train_datagen.flow_from_dataframe(\n",
    "    dataframe=df_train_balanced,\n",
    "    x_col='path',\n",
    "    y_col='dx',\n",
    "    target_size=IMG_SIZE,\n",
    "    batch_size=BATCH_SIZE,\n",
    "    class_mode='categorical',\n",
    "    shuffle=True,\n",
    "    seed=RANDOM_STATE\n",
    ")\n",
    "\n",
    "val_datagen = ImageDataGenerator(rescale=1./255,)\n",
    "val_gen = val_datagen.flow_from_dataframe(\n",
    "    dataframe=df_val,\n",
    "    x_col='path',\n",
    "    y_col='dx',\n",
    "    target_size=IMG_SIZE,\n",
    "    batch_size=BATCH_SIZE,\n",
    "    class_mode='categorical',\n",
    "    shuffle=False\n",
    ")\n",
    "\n",
    "test_gen = val_datagen.flow_from_dataframe(\n",
    "    dataframe=df_test,\n",
    "    x_col='path',\n",
    "    y_col='dx',\n",
    "    target_size=IMG_SIZE,\n",
    "    batch_size=BATCH_SIZE,\n",
    "    class_mode='categorical',\n",
    "    shuffle=False\n",
    ")"
   ]
  },
  {
   "cell_type": "code",
   "execution_count": 14,
   "id": "e648c34b",
   "metadata": {},
   "outputs": [
    {
     "name": "stdout",
     "output_type": "stream",
     "text": [
      "Model: \"model\"\n",
      "_________________________________________________________________\n",
      " Layer (type)                Output Shape              Param #   \n",
      "=================================================================\n",
      " input_1 (InputLayer)        [(None, 128, 128, 3)]     0         \n",
      "                                                                 \n",
      " conv2d (Conv2D)             (None, 128, 128, 32)      896       \n",
      "                                                                 \n",
      " batch_normalization (BatchN  (None, 128, 128, 32)     128       \n",
      " ormalization)                                                   \n",
      "                                                                 \n",
      " conv2d_1 (Conv2D)           (None, 128, 128, 32)      9248      \n",
      "                                                                 \n",
      " batch_normalization_1 (Batc  (None, 128, 128, 32)     128       \n",
      " hNormalization)                                                 \n",
      "                                                                 \n",
      " max_pooling2d (MaxPooling2D  (None, 64, 64, 32)       0         \n",
      " )                                                               \n",
      "                                                                 \n",
      " dropout (Dropout)           (None, 64, 64, 32)        0         \n",
      "                                                                 \n",
      " conv2d_2 (Conv2D)           (None, 64, 64, 64)        18496     \n",
      "                                                                 \n",
      " batch_normalization_2 (Batc  (None, 64, 64, 64)       256       \n",
      " hNormalization)                                                 \n",
      "                                                                 \n",
      " conv2d_3 (Conv2D)           (None, 64, 64, 64)        36928     \n",
      "                                                                 \n",
      " batch_normalization_3 (Batc  (None, 64, 64, 64)       256       \n",
      " hNormalization)                                                 \n",
      "                                                                 \n",
      " max_pooling2d_1 (MaxPooling  (None, 32, 32, 64)       0         \n",
      " 2D)                                                             \n",
      "                                                                 \n",
      " dropout_1 (Dropout)         (None, 32, 32, 64)        0         \n",
      "                                                                 \n",
      " conv2d_4 (Conv2D)           (None, 32, 32, 128)       73856     \n",
      "                                                                 \n",
      " batch_normalization_4 (Batc  (None, 32, 32, 128)      512       \n",
      " hNormalization)                                                 \n",
      "                                                                 \n",
      " conv2d_5 (Conv2D)           (None, 32, 32, 128)       147584    \n",
      "                                                                 \n",
      " batch_normalization_5 (Batc  (None, 32, 32, 128)      512       \n",
      " hNormalization)                                                 \n",
      "                                                                 \n",
      " max_pooling2d_2 (MaxPooling  (None, 16, 16, 128)      0         \n",
      " 2D)                                                             \n",
      "                                                                 \n",
      " dropout_2 (Dropout)         (None, 16, 16, 128)       0         \n",
      "                                                                 \n",
      " conv2d_6 (Conv2D)           (None, 16, 16, 256)       295168    \n",
      "                                                                 \n",
      " batch_normalization_6 (Batc  (None, 16, 16, 256)      1024      \n",
      " hNormalization)                                                 \n",
      "                                                                 \n",
      " conv2d_7 (Conv2D)           (None, 16, 16, 256)       590080    \n",
      "                                                                 \n",
      " batch_normalization_7 (Batc  (None, 16, 16, 256)      1024      \n",
      " hNormalization)                                                 \n",
      "                                                                 \n",
      " max_pooling2d_3 (MaxPooling  (None, 8, 8, 256)        0         \n",
      " 2D)                                                             \n",
      "                                                                 \n",
      " dropout_3 (Dropout)         (None, 8, 8, 256)         0         \n",
      "                                                                 \n",
      " flatten (Flatten)           (None, 16384)             0         \n",
      "                                                                 \n",
      " dense (Dense)               (None, 512)               8389120   \n",
      "                                                                 \n",
      " dropout_4 (Dropout)         (None, 512)               0         \n",
      "                                                                 \n",
      " dense_1 (Dense)             (None, 7)                 3591      \n",
      "                                                                 \n",
      "=================================================================\n",
      "Total params: 9,568,807\n",
      "Trainable params: 9,566,887\n",
      "Non-trainable params: 1,920\n",
      "_________________________________________________________________\n"
     ]
    }
   ],
   "source": [
    "inputs = Input(shape=(*IMG_SIZE,3))\n",
    "\n",
    "x = Conv2D(32,(3,3),activation='relu',padding='same')(inputs)\n",
    "x = BatchNormalization()(x)\n",
    "x = Conv2D(32,(3,3),activation='relu',padding='same')(x)\n",
    "x = BatchNormalization()(x)\n",
    "x = MaxPooling2D((2,2))(x)\n",
    "x = Dropout(0.25)(x)\n",
    "\n",
    "x = Conv2D(64,(3,3),activation='relu',padding='same')(x)\n",
    "x = BatchNormalization()(x)\n",
    "x = Conv2D(64,(3,3),activation='relu',padding='same')(x)\n",
    "x = BatchNormalization()(x)\n",
    "x = MaxPooling2D((2,2))(x)\n",
    "x = Dropout(0.3)(x)\n",
    "\n",
    "x = Conv2D(128,(3,3),activation='relu',padding='same')(x)\n",
    "x = BatchNormalization()(x)\n",
    "x = Conv2D(128,(3,3),activation='relu',padding='same')(x)\n",
    "x = BatchNormalization()(x)\n",
    "x = MaxPooling2D((2,2))(x)\n",
    "x = Dropout(0.35)(x)\n",
    "\n",
    "x = Conv2D(256,(3,3),activation='relu',padding='same')(x)\n",
    "x = BatchNormalization()(x)\n",
    "x = Conv2D(256,(3,3),activation='relu',padding='same')(x)\n",
    "x = BatchNormalization()(x)\n",
    "x = MaxPooling2D((2,2))(x)\n",
    "x = Dropout(0.4)(x)\n",
    "\n",
    "x = Flatten()(x)\n",
    "x = Dense(512, activation='relu')(x)\n",
    "x = Dropout(0.5)(x)\n",
    "outputs = Dense(7, activation='softmax')(x)\n",
    "\n",
    "cnn_model = Model(inputs, outputs)\n",
    "cnn_model.summary()"
   ]
  },
  {
   "cell_type": "code",
   "execution_count": 15,
   "id": "e54f4266",
   "metadata": {},
   "outputs": [],
   "source": [
    "cnn_model.compile(\n",
    "    optimizer=Adam(1e-4),\n",
    "    loss='categorical_crossentropy',\n",
    "    metrics=['accuracy']\n",
    ")"
   ]
  },
  {
   "cell_type": "code",
   "execution_count": 16,
   "id": "3b23845e",
   "metadata": {},
   "outputs": [
    {
     "name": "stdout",
     "output_type": "stream",
     "text": [
      "Epoch 1/50\n",
      "657/657 [==============================] - 452s 677ms/step - loss: 1.7621 - accuracy: 0.3440 - val_loss: 2.2534 - val_accuracy: 0.3879 - lr: 1.0000e-04\n",
      "Epoch 2/50\n",
      "657/657 [==============================] - 451s 686ms/step - loss: 1.3973 - accuracy: 0.4521 - val_loss: 1.5751 - val_accuracy: 0.6683 - lr: 1.0000e-04\n",
      "Epoch 3/50\n",
      "657/657 [==============================] - 455s 692ms/step - loss: 1.3014 - accuracy: 0.4912 - val_loss: 1.3763 - val_accuracy: 0.6141 - lr: 1.0000e-04\n",
      "Epoch 4/50\n",
      "657/657 [==============================] - 459s 698ms/step - loss: 1.2238 - accuracy: 0.5281 - val_loss: 1.2440 - val_accuracy: 0.6010 - lr: 1.0000e-04\n",
      "Epoch 5/50\n",
      "657/657 [==============================] - 455s 692ms/step - loss: 1.1558 - accuracy: 0.5576 - val_loss: 1.0684 - val_accuracy: 0.6422 - lr: 1.0000e-04\n",
      "Epoch 6/50\n",
      "657/657 [==============================] - 455s 692ms/step - loss: 1.0871 - accuracy: 0.5880 - val_loss: 1.2819 - val_accuracy: 0.5940 - lr: 1.0000e-04\n",
      "Epoch 7/50\n",
      "657/657 [==============================] - 462s 703ms/step - loss: 1.0318 - accuracy: 0.6058 - val_loss: 1.5758 - val_accuracy: 0.4834 - lr: 1.0000e-04\n",
      "Epoch 8/50\n",
      "657/657 [==============================] - 457s 696ms/step - loss: 0.9964 - accuracy: 0.6259 - val_loss: 1.0663 - val_accuracy: 0.6221 - lr: 1.0000e-04\n",
      "Epoch 9/50\n",
      "657/657 [==============================] - 453s 690ms/step - loss: 0.9416 - accuracy: 0.6407 - val_loss: 1.3267 - val_accuracy: 0.5608 - lr: 1.0000e-04\n",
      "Epoch 10/50\n",
      "657/657 [==============================] - 459s 699ms/step - loss: 0.9129 - accuracy: 0.6534 - val_loss: 1.5688 - val_accuracy: 0.5176 - lr: 1.0000e-04\n",
      "Epoch 11/50\n",
      "657/657 [==============================] - 436s 663ms/step - loss: 0.8740 - accuracy: 0.6645 - val_loss: 0.9878 - val_accuracy: 0.6925 - lr: 1.0000e-04\n",
      "Epoch 12/50\n",
      "657/657 [==============================] - 457s 695ms/step - loss: 0.8380 - accuracy: 0.6798 - val_loss: 1.2858 - val_accuracy: 0.5990 - lr: 1.0000e-04\n",
      "Epoch 13/50\n",
      "657/657 [==============================] - 457s 696ms/step - loss: 0.8174 - accuracy: 0.6849 - val_loss: 1.1401 - val_accuracy: 0.6181 - lr: 1.0000e-04\n",
      "Epoch 14/50\n",
      "657/657 [==============================] - ETA: 0s - loss: 0.7880 - accuracy: 0.6999\n",
      "Epoch 14: ReduceLROnPlateau reducing learning rate to 4.999999873689376e-05.\n",
      "657/657 [==============================] - 453s 689ms/step - loss: 0.7880 - accuracy: 0.6999 - val_loss: 1.0302 - val_accuracy: 0.6683 - lr: 1.0000e-04\n",
      "Epoch 15/50\n",
      "657/657 [==============================] - 461s 702ms/step - loss: 0.7224 - accuracy: 0.7228 - val_loss: 1.2814 - val_accuracy: 0.6251 - lr: 5.0000e-05\n",
      "Epoch 16/50\n",
      "657/657 [==============================] - 451s 687ms/step - loss: 0.6957 - accuracy: 0.7321 - val_loss: 1.1819 - val_accuracy: 0.6261 - lr: 5.0000e-05\n",
      "Epoch 17/50\n",
      "657/657 [==============================] - ETA: 0s - loss: 0.6832 - accuracy: 0.7348\n",
      "Epoch 17: ReduceLROnPlateau reducing learning rate to 2.499999936844688e-05.\n",
      "657/657 [==============================] - 427s 649ms/step - loss: 0.6832 - accuracy: 0.7348 - val_loss: 1.2615 - val_accuracy: 0.6432 - lr: 5.0000e-05\n",
      "Epoch 18/50\n",
      "657/657 [==============================] - 452s 688ms/step - loss: 0.6479 - accuracy: 0.7512 - val_loss: 1.2198 - val_accuracy: 0.6603 - lr: 2.5000e-05\n",
      "Epoch 19/50\n",
      "657/657 [==============================] - 465s 707ms/step - loss: 0.6304 - accuracy: 0.7566 - val_loss: 1.3278 - val_accuracy: 0.6161 - lr: 2.5000e-05\n"
     ]
    }
   ],
   "source": [
    "history_cnn = cnn_model.fit(\n",
    "    train_gen,\n",
    "    validation_data=val_gen,\n",
    "    epochs=50,\n",
    "    callbacks=[\n",
    "        ReduceLROnPlateau(factor=0.5, patience=3, verbose=1),\n",
    "        EarlyStopping(patience=8, restore_best_weights=True)\n",
    "    ]\n",
    ")"
   ]
  },
  {
   "cell_type": "code",
   "execution_count": 17,
   "id": "8a7b7959",
   "metadata": {},
   "outputs": [
    {
     "name": "stdout",
     "output_type": "stream",
     "text": [
      "32/32 [==============================] - 19s 608ms/step\n",
      "CNN Model Results\n",
      "Test Accuracy: 0.6663316582914572\n",
      "Mean F1: 0.4440746831284808 Std F1: 0.27922002913852506\n",
      "Mean IoU: 0.3317920432117706 Std IoU: 0.2606590733149903\n"
     ]
    }
   ],
   "source": [
    "y_pred = cnn_model.predict(test_gen)\n",
    "y_pred_classes = np.argmax(y_pred, axis=1)\n",
    "y_true = test_gen.classes\n",
    "\n",
    "unique_classes = np.unique(y_true)\n",
    "iou_scores = [jaccard_score(y_true==cls, y_pred_classes==cls) for cls in unique_classes]\n",
    "f1_scores = [f1_score(y_true==cls, y_pred_classes==cls) for cls in unique_classes]\n",
    "\n",
    "test_acc = accuracy_score(y_true, y_pred_classes)\n",
    "mean_iou = np.mean(iou_scores)\n",
    "std_iou = np.std(iou_scores)\n",
    "mean_f1 = np.mean(f1_scores)\n",
    "std_f1 = np.std(f1_scores)\n",
    "\n",
    "print(\"CNN Model Results\")\n",
    "print(\"Test Accuracy:\", test_acc)\n",
    "print(\"Mean F1:\", mean_f1, \"Std F1:\", std_f1)\n",
    "print(\"Mean IoU:\", mean_iou, \"Std IoU:\", std_iou)"
   ]
  },
  {
   "cell_type": "code",
   "execution_count": 18,
   "id": "93417067",
   "metadata": {},
   "outputs": [
    {
     "data": {
      "image/png": "[encoded data removed]",
      "text/plain": [
       "<Figure size 800x600 with 2 Axes>"
      ]
     },
     "metadata": {},
     "output_type": "display_data"
    }
   ],
   "source": [
    "cm = confusion_matrix(y_true, y_pred_classes)\n",
    "cm_normalized = cm.astype('float') / cm.sum(axis=1)[:, np.newaxis]\n",
    "class_labels = list(test_gen.class_indices.keys())\n",
    "\n",
    "plt.figure(figsize=(8,6))\n",
    "sns.heatmap(cm_normalized, annot=True, fmt=\".2f\", cmap=\"Blues\",\n",
    "            xticklabels=class_labels, yticklabels=class_labels)\n",
    "plt.xlabel(\"Predicted\")\n",
    "plt.ylabel(\"True\")\n",
    "plt.title(\"Normalized Confusion Matrix - CNN\")\n",
    "plt.show()"
   ]
  }
 ],
 "metadata": {
  "kernelspec": {
   "display_name": "tf",
   "language": "python",
   "name": "python3"
  },
  "language_info": {
   "codemirror_mode": {
    "name": "ipython",
    "version": 3
   },
   "file_extension": ".py",
   "mimetype": "text/x-python",
   "name": "python",
   "nbconvert_exporter": "python",
   "pygments_lexer": "ipython3",
   "version": "3.9.23"
  }
 },
 "nbformat": 4,
 "nbformat_minor": 5
}
